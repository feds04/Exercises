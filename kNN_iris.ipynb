{
 "cells": [
  {
   "cell_type": "markdown",
   "metadata": {},
   "source": [
    "Implement kNN method from scratch.\n",
    "Predict the first attribute in the Iris Setosa dataset, assuming that the other 4 are known."
   ]
  },
  {
   "cell_type": "code",
   "execution_count": 1,
   "metadata": {
    "collapsed": false
   },
   "outputs": [],
   "source": [
    "import csv\n",
    "import random\n",
    "import math\n",
    "import operator"
   ]
  },
  {
   "cell_type": "code",
   "execution_count": 95,
   "metadata": {
    "collapsed": false
   },
   "outputs": [],
   "source": [
    "def loadDataset(filename, split, trainingSet=[] , testSet=[]):\n",
    "    with open(filename, 'rb') as csvfile:\n",
    "        lines = csv.reader(csvfile)\n",
    "        dataset = list(lines)\n",
    "        for x in range(len(dataset)-1):\n",
    "            for y in range(4):\n",
    "                dataset[x][y] = float(dataset[x][y])\n",
    "            if random.random() < split:\n",
    "                trainingSet.append(dataset[x])\n",
    "            else:\n",
    "                testSet.append(dataset[x])\n",
    "\n",
    "\n",
    "def Distance(instance1, instance2):\n",
    "    distance = 0\n",
    "    for x in range(1, 4): # we predict the very first attribute, so we omit it in the distance\n",
    "        distance += pow((instance1[x] - instance2[x]), 2)\n",
    "    # we use Euclidian distance for real attributes and explicitly specified (below) metric for the categorical attribute\n",
    "    distance=math.sqrt(distance)+metric[instance1[-1]][instance2[-1]]\n",
    "    return distance\n",
    "\n",
    "def getNeighbors(trainingSet, testInstance):\n",
    "    distances = []\n",
    "    for x in range(len(trainingSet)):\n",
    "        dist = Distance(testInstance, trainingSet[x])\n",
    "        distances.append((trainingSet[x], dist))\n",
    "    distances.sort(key=operator.itemgetter(1))\n",
    "    #print distances\n",
    "    neighbors = []\n",
    "    for x in range(4): # return the closest 4 neighbors\n",
    "        neighbors.append(distances[x][0])\n",
    "    return neighbors\n",
    "\n",
    "def getResponse(neighbors):\n",
    "    #print neighbors\n",
    "    tmp=[row[0] for row in neighbors]\n",
    "    return sum(tmp) / float(len(tmp)) # our prediction is the average of the first attribute over neighbors\n",
    "\n",
    "def main():\n",
    "    # prepare data\n",
    "    trainingSet=[]\n",
    "    testSet=[]\n",
    "    split = 0.67\n",
    "    loadDataset('iris.dat', split, trainingSet, testSet)\n",
    "    print 'Train set: ' + repr(len(trainingSet))\n",
    "    print 'Test set: ' + repr(len(testSet))\n",
    "    # generate predictions\n",
    "    predictions_err=[]\n",
    "    for x in range(len(testSet)):\n",
    "        neighbors = getNeighbors(trainingSet, testSet[x])\n",
    "        result = getResponse(neighbors)\n",
    "        predictions_err.append(math.fabs(result-testSet[x][0]))\n",
    "        print('> predicted= %.3f, actual= %.3f' % (result, testSet[x][0]))\n",
    "    # this measures how good our prediction is on the average\n",
    "    print('Mean deviation: %.3f' % (sum(predictions_err)/len(predictions_err))) "
   ]
  },
  {
   "cell_type": "code",
   "execution_count": 97,
   "metadata": {
    "collapsed": false
   },
   "outputs": [
    {
     "name": "stdout",
     "output_type": "stream",
     "text": [
      "Train set: 103\n",
      "Test set: 46\n",
      "> predicted= 5.250, actual= 5.100\n",
      "> predicted= 4.875, actual= 4.600\n",
      "> predicted= 5.300, actual= 5.000\n",
      "> predicted= 5.075, actual= 4.600\n",
      "> predicted= 4.725, actual= 4.400\n",
      "> predicted= 5.000, actual= 4.800\n",
      "> predicted= 4.900, actual= 5.400\n",
      "> predicted= 5.525, actual= 5.500\n",
      "> predicted= 4.725, actual= 4.600\n",
      "> predicted= 5.175, actual= 5.300\n",
      "> predicted= 4.825, actual= 5.000\n",
      "> predicted= 6.100, actual= 6.500\n",
      "> predicted= 5.350, actual= 4.900\n",
      "> predicted= 5.650, actual= 5.200\n",
      "> predicted= 5.625, actual= 5.600\n",
      "> predicted= 6.175, actual= 5.600\n",
      "> predicted= 5.700, actual= 6.200\n",
      "> predicted= 5.650, actual= 5.600\n",
      "> predicted= 5.700, actual= 6.100\n",
      "> predicted= 6.250, actual= 6.300\n",
      "> predicted= 5.475, actual= 5.700\n",
      "> predicted= 5.700, actual= 5.500\n",
      "> predicted= 6.600, actual= 6.000\n",
      "> predicted= 6.650, actual= 6.700\n",
      "> predicted= 5.750, actual= 5.600\n",
      "> predicted= 6.025, actual= 6.100\n",
      "> predicted= 5.700, actual= 5.800\n",
      "> predicted= 5.400, actual= 5.000\n",
      "> predicted= 7.100, actual= 7.100\n",
      "> predicted= 6.625, actual= 6.300\n",
      "> predicted= 7.600, actual= 7.600\n",
      "> predicted= 6.575, actual= 6.800\n",
      "> predicted= 5.900, actual= 5.700\n",
      "> predicted= 6.675, actual= 6.400\n",
      "> predicted= 6.875, actual= 7.700\n",
      "> predicted= 5.850, actual= 6.000\n",
      "> predicted= 5.950, actual= 6.300\n",
      "> predicted= 5.950, actual= 6.200\n",
      "> predicted= 6.875, actual= 7.900\n",
      "> predicted= 6.625, actual= 6.400\n",
      "> predicted= 6.625, actual= 6.300\n",
      "> predicted= 6.000, actual= 6.000\n",
      "> predicted= 5.975, actual= 5.800\n",
      "> predicted= 6.675, actual= 6.700\n",
      "> predicted= 6.025, actual= 6.300\n",
      "> predicted= 6.625, actual= 6.500\n",
      "Mean deviation: 0.264\n"
     ]
    }
   ],
   "source": [
    "# This is our data for metric\n",
    "species=['Iris-setosa', 'Iris-versicolor', 'Iris-virginica']\n",
    "\n",
    "# We make a dictionary of dictionaries that contains metric for species\n",
    "# The distance is 0 between the same species, and 1 otherwise.\n",
    "metric={}\n",
    "for spec1 in species:\n",
    "    for spec2 in species:\n",
    "        if spec1==spec2:\n",
    "            metric.setdefault(spec1,{})[spec2]=0\n",
    "        else:\n",
    "            metric.setdefault(spec1,{})[spec2]=1\n",
    "\n",
    "random.seed(1234)\n",
    "main()"
   ]
  },
  {
   "cell_type": "code",
   "execution_count": null,
   "metadata": {
    "collapsed": false
   },
   "outputs": [],
   "source": []
  }
 ],
 "metadata": {
  "kernelspec": {
   "display_name": "Python 2",
   "language": "python",
   "name": "python2"
  },
  "language_info": {
   "codemirror_mode": {
    "name": "ipython",
    "version": 2
   },
   "file_extension": ".py",
   "mimetype": "text/x-python",
   "name": "python",
   "nbconvert_exporter": "python",
   "pygments_lexer": "ipython2",
   "version": "2.7.10"
  }
 },
 "nbformat": 4,
 "nbformat_minor": 0
}
