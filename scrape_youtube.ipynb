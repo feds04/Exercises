{
 "cells": [
  {
   "cell_type": "markdown",
   "metadata": {},
   "source": [
    "A script for scraping comments from news videos on youtube.com"
   ]
  },
  {
   "cell_type": "code",
   "execution_count": 1,
   "metadata": {
    "collapsed": false
   },
   "outputs": [],
   "source": [
    "import argparse\n",
    "import re\n",
    "from multiprocessing.pool import ThreadPool as Pool\n",
    "import requests\n",
    "import bs4 "
   ]
  },
  {
   "cell_type": "code",
   "execution_count": 2,
   "metadata": {
    "collapsed": false
   },
   "outputs": [],
   "source": [
    "root_url = 'http://www.youtube.com'\n",
    "index_url = root_url + '/results?search_query=war+in+ukraine+latest'"
   ]
  },
  {
   "cell_type": "code",
   "execution_count": 3,
   "metadata": {
    "collapsed": false
   },
   "outputs": [],
   "source": [
    "def get_video_page_urls():\n",
    "    response = requests.get(index_url)\n",
    "    soup = bs4.BeautifulSoup(response.text)\n",
    "    return [a.attrs.get('href') for a in soup.select('div.yt-lockup-content a[href^=/watch]')]"
   ]
  },
  {
   "cell_type": "code",
   "execution_count": 4,
   "metadata": {
    "collapsed": false
   },
   "outputs": [],
   "source": [
    "def get_video_data(video_page_url):\n",
    "    video_data = {}\n",
    "    response = requests.get(root_url + video_page_url.replace('watch','all_comments'))\n",
    "    soup = bs4.BeautifulSoup(response.text)\n",
    "    tmp=soup.find(id='watch-response-header-content')\n",
    "    tmp2=re.split(unichr(8226),tmp.p.get_text())\n",
    "    \n",
    "    video_data['title'] = tmp.a.get_text()\n",
    "    video_data['author'] = re.sub(' ','',re.sub('by ','',tmp2[0]))\n",
    "    video_data['views'] = int(re.sub(',','',re.sub(' views', '',tmp2[1])))\n",
    "    video_data['comments'] = int(re.search('\\(([0-9]+)\\)', soup.select('div.all-comments a')[0].get_text()).group(1))\n",
    "    \n",
    "    return video_data "
   ]
  },
  {
   "cell_type": "code",
   "execution_count": 5,
   "metadata": {
    "collapsed": false
   },
   "outputs": [],
   "source": [
    "def show_video_stats():\n",
    "    \n",
    "    pool = Pool(4)\n",
    "    video_page_urls = get_video_page_urls()\n",
    "    results = sorted(pool.map(get_video_data, video_page_urls), key=lambda video: video['views'], reverse=True)\n",
    "    max=len(results)\n",
    "    print max\n",
    "            \n",
    "    print ('%-*s %-*s %-*s %s' % (60,'Title', 20, 'Author', 10, 'Views', 'Comments'))\n",
    "    for i in range(max):\n",
    "        s1=(results[i]['title'][:58] + '..') if len(results[i]['title']) > 60 else results[i]['title']\n",
    "        s2=(results[i]['author'][:18] + '..') if len(results[i]['author']) > 20 else results[i]['author']\n",
    "        print ('%-*s %-*s %-*u %u' % (60,s1, 20, s2, 10, results[i]['views'], results[i]['comments']))"
   ]
  },
  {
   "cell_type": "code",
   "execution_count": 6,
   "metadata": {
    "collapsed": false
   },
   "outputs": [
    {
     "name": "stdout",
     "output_type": "stream",
     "text": [
      "20\n",
      "Title                                                        Author               Views      Comments\n",
      "War in Ukraine  Bloody battles for the South East / Война .. УкраинавОгне         604608     869\n",
      "Ukraine War - Heavy Combat Action During Fighting Between .. WarLeaks             132091     987\n",
      "Ukraine WAR: Video Battle Shooting at Donetsk, Ukraine | F.. TodayWorldNews       23699      13\n",
      "12.12.2014 Ukrainian crisis news. Latest news of Ukraine, .. SOUTHFRONT           20322      65\n",
      "16.01.2015 Ukrainian crisis news. Epic Urkainian victories.. SOUTHFRONT           18518      79\n",
      "Ukraine War - Newest-Russian only ASVK counter-sniper and .. PressTVNews          15594      75\n",
      "Ukraine War 2015 - Heavy Clashes And Fighting In Eastern U.. WarLeaks             15149      182\n",
      "Ukraine War - Ukrainian Military Train. Donetsk region - U.. PressTVNews          14682      54\n",
      "19.01.2015 Ukrainian crisis news. Peski, Poroshenko, IAmVo.. SOUTHFRONT           12860      60\n",
      "22.01.2015 Ukrainian crisis news. Latest news of Ukraine, .. SOUTHFRONT           11760      14\n",
      "20.01.2015 Ukrainian crisis news. Latest news of Ukraine, .. SOUTHFRONT           11418      37\n",
      "02-03.12.2014 Ukrainian crisis news. Donetsk, Lugansk, Lat.. SOUTHFRONT           10376      207\n",
      "21.01.2015 Military Report of Novorossia. War in Ukraine, .. SOUTHFRONT           9554       18\n",
      "22.01.2015 Military Report of Novorossia. Latest news of U.. SOUTHFRONT           8963       12\n",
      "Ukraine War - Russian convoy of heavy military equipment n.. PressTVNews          7112       28\n",
      "14.01.2015 Ukrainian crisis news. Latest news of Ukraine, .. SOUTHFRONT           6995       17\n",
      "15.01.2015 Ukrainian crisis news. War in Ukraine, USA, NAT.. SOUTHFRONT           6501       13\n",
      "25-26.12.2014 Ukrainian crisis news. War in Ukraine, Russi.. SOUTHFRONT           4130       23\n",
      "Ukraine War • Latest footage from Russians attacking Termi.. UkraineWarNews       3313       2\n",
      "23.01.2015 Ukrainian crisis news. War in Ukraine, Donetsk,.. SOUTHFRONT           2076       19\n"
     ]
    }
   ],
   "source": [
    "show_video_stats()"
   ]
  },
  {
   "cell_type": "code",
   "execution_count": null,
   "metadata": {
    "collapsed": false
   },
   "outputs": [],
   "source": []
  }
 ],
 "metadata": {
  "kernelspec": {
   "display_name": "Python 2",
   "language": "python",
   "name": "python2"
  },
  "language_info": {
   "codemirror_mode": {
    "name": "ipython",
    "version": 2
   },
   "file_extension": ".py",
   "mimetype": "text/x-python",
   "name": "python",
   "nbconvert_exporter": "python",
   "pygments_lexer": "ipython2",
   "version": "2.7.10"
  }
 },
 "nbformat": 4,
 "nbformat_minor": 0
}
