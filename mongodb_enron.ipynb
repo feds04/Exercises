{
 "cells": [
  {
   "cell_type": "code",
   "execution_count": null,
   "metadata": {
    "collapsed": true
   },
   "outputs": [],
   "source": [
    "Import Enron Mail Corpus in the MongoDB and run some queries on it"
   ]
  },
  {
   "cell_type": "code",
   "execution_count": 1,
   "metadata": {
    "collapsed": false
   },
   "outputs": [],
   "source": [
    "import json\n",
    "from bson import json_util\n",
    "import pymongo\n",
    "from pymongo import MongoClient\n",
    "import re"
   ]
  },
  {
   "cell_type": "code",
   "execution_count": 6,
   "metadata": {
    "collapsed": false
   },
   "outputs": [
    {
     "name": "stdout",
     "output_type": "stream",
     "text": [
      "41299\n"
     ]
    }
   ],
   "source": [
    "connection = MongoClient()\n",
    "dbh=connection['enron']\n",
    "dbh.collection_names()\n",
    "print dbh.mbox.find().count()"
   ]
  },
  {
   "cell_type": "code",
   "execution_count": 21,
   "metadata": {
    "collapsed": false
   },
   "outputs": [],
   "source": [
    "def printmail(js):\n",
    "    print \"------------------------------\"\n",
    "    print \"Date: \", js['Date']\n",
    "    print \"From: \", js['From']\n",
    "    print \"To: \", js['To']\n",
    "    print \"Subject: \", js['Subject']\n",
    "    print \"Body: \", js['parts'][0]['content']\n",
    "    print \"------------------------------\""
   ]
  },
  {
   "cell_type": "code",
   "execution_count": 22,
   "metadata": {
    "collapsed": false
   },
   "outputs": [
    {
     "name": "stdout",
     "output_type": "stream",
     "text": [
      "# 384 ...nd continues to do so today.  enron (via jedi) also provided some financing at the...\n",
      "# 576 ....\\n\\nstar wars: episode vi-return of the jedi\\ndirected by richard marquand\\n(usa,...\n",
      "# 1711 ....\\n\\nstar wars: episode vi-return of the jedi\\ndirected by richard marquand\\n(usa,...\n",
      "# 1742 ....\\n\\nstar wars: episode vi-return of the jedi\\ndirected by richard marquand\\n(usa,...\n",
      "# 3475 ...been told that conceptually it will be a jedi type arrangement.  i have been asked...\n",
      "# 4118 ...of joint energy development investments (jedi) and chewco beginning in november 19...\n",
      "# 5871 ...idiaries and related partnerships called jedi and chewco. (yes, they were named in...\n",
      "# 5915 ...of joint energy development investments (jedi) and chewco beginning in november 19...\n",
      "# 5951 ...ith whom i deal with regularly regarding jedi ii).  they indicated at the time tha...\n",
      "# 7093 ....\\n\\nstar wars: episode vi-return of the jedi\\ndirected by richard marquand\\n(usa,...\n",
      "# 7140 ....\\n\\nstar wars: episode vi-return of the jedi\\ndirected by richard marquand\\n(usa,...\n",
      "# 7220 ...of joint energy development investments (jedi) and chewco beginning in november 19...\n",
      "# 7520 ...of joint energy development investments (jedi) and chewco beginning in november 19...\n",
      "# 7598 ....\\n\\nstar wars: episode vi-return of the jedi\\ndirected by richard marquand\\n(usa,...\n",
      "# 7945 ...of joint energy development investments (jedi) and chewco beginning in november 19...\n",
      "# 8840 ...of joint energy development investments (jedi) and chewco beginning in november 19...\n",
      "# 10964 ...of joint energy development investments (jedi) and chewco beginning in november 19...\n",
      "# 11542 ...rson@enron.com\", \"subject\": \"fw: sale of jedi ii assets\", \"to\": [\"david.gorte@enro...\n",
      "# 11575 ...of joint energy development investments (jedi) and chewco beginning in november 19...\n",
      "# 11614 ...ligation to management and shareholders, jedi ii and calpers look to rac to make s...\n",
      "# 11741 ...joint energy development investments lp (jedi), and indirectly contributed\\nabout\\...\n",
      "# 11775 ...including but not limited to ljm1, ljm2, jedi, chewco, raptor entities, osprey, bl...\n",
      "# 13201 ...of joint energy development investments (jedi) and chewco beginning in november 19...\n",
      "# 14709 ... enterprises iii inc.2/20/1998yes\\t\\t\\t\\njedi capital ii llc\\t9/4/1998\\tyes\\t\\ne.c...\n",
      "# 15445 ...with off-balance sheet partnerships like jedi ii drove the company's stock price d...\n",
      "# 15569 ...y development investments lp. \\nknown as jedi, this limited partnership was create...\n",
      "# 15615 ...of joint energy development investments (jedi) and chewco beginning in november 19...\n",
      "# 15622 ...nt energy development investments lp, or jedi, and a unit of ljm cayman lp - in it...\n",
      "# 15970 ...of joint energy development investments (jedi) and chewco beginning in november 19...\n",
      "# 16527 ...of joint energy development investments (jedi) and chewco beginning in november 19...\n",
      "# 17053 ...d in sale:\\nempire energy supply l.l.c.\\njedi bayonne gp, l.l.c.\\ncogen technologi...\n",
      "# 17107 ...nd continues to do so today.  enron (via jedi) also provided some financing at the...\n",
      "# 17115 ...nd continues to do so today.  enron (via jedi) also provided some financing at the...\n",
      "# 17215 ...of joint energy development investments (jedi) and chewco beginning in november 19...\n",
      "# 17583 ...of joint energy development investments (jedi) and chewco beginning in november 19...\n",
      "# 17745 ....\\n\\nstar wars: episode vi-return of the jedi\\ndirected by richard marquand\\n(usa,...\n",
      "# 17777 ....\\n\\nstar wars: episode vi-return of the jedi\\ndirected by richard marquand\\n(usa,...\n",
      "# 17939 ...of joint energy development investments (jedi) and chewco beginning in november 19...\n",
      "# 18377 ...the jerle shannara, star wars\\n: the new jedi order: edge of victory, spider-man\\n...\n",
      "# 19040 ...of joint energy development investments (jedi) and chewco beginning in november 19...\n",
      "# 20368 ...of joint energy development investments (jedi) and chewco beginning in november 19...\n",
      "# 20648 ...joint energy development investments lp (jedi), and indirectly contributed\\nabout\\...\n",
      "# 21963 ...of joint energy development investments (jedi) and chewco beginning in november 19...\n",
      "# 22714 ...of joint energy development investments (jedi) and chewco beginning in november 19...\n",
      "# 22873 ...of joint energy development investments (jedi) and chewco beginning in november 19...\n",
      "# 23588 ...68\\n96031272\\nlomax exploration company\\njedi\\n09/21/01\\n11209\\n96010012\\nlouisian...\n",
      "# 23590 ...68\\n96031272\\nlomax exploration company\\njedi\\n09/21/01\\n11209\\n96010012\\nlouisian...\n",
      "# 24395 ... enterprises iii inc.2/20/1998yes\\t\\t\\t\\njedi capital ii llc\\t9/4/1998\\tyes\\t\\ne.c...\n",
      "# 24507 ....\\n\\nstar wars: episode vi-return of the jedi\\ndirected by richard marquand\\n(usa,...\n",
      "# 24776 ....\\n\\nstar wars: episode vi-return of the jedi\\ndirected by richard marquand\\n(usa,...\n",
      "# 26950 ...of joint energy development investments (jedi) and chewco beginning in november 19...\n",
      "# 26962 ...nd continues to do so today.  enron (via jedi) also provided some financing at the...\n",
      "# 28776 ...of joint energy development investments (jedi) and chewco beginning in november 19...\n",
      "# 28974 ...y's mysterious limited partnerships like jedi ii, or joint energy development inve...\n",
      "# 28976 ...ames of \\\"star wars\\\" characters such as jedi, were created by enron _ which took ...\n",
      "# 29016 ...ships with names such as ljm, raptor and jedi, then-chairman kenneth l. lay announ...\n",
      "# 29032 ...nts were references to two partnerships, jedi ii and raptor, that are at the cente...\n",
      "# 29037 ...shredded documents containing the word \\\"jedi,\\\" which is believed to be one of th...\n",
      "# 29044 ...troyed at enron headquarters were marked jedi ii and chewco - partnerships through...\n",
      "# 29046 ...s with odd, obscure names -- ljm1, ljm2, jedi, chewco, the raptor entities, osprey...\n",
      "# 29050 ...\\none of the shreds contained the word \\\"jedi,\\\" likely a reference to the enron-c...\n",
      "# 29101 ...ins did some \\\"clean-up\\\" work regarding jedi in early 1997, and then was moved to...\n",
      "# 29139 ...mon stock held by a related partnership, jedi. \\r\\nwhen enron owned up to its acco...\n",
      "# 29185 ... in another limited partnership known as jedi. the deal kept jedi in the enron fam...\n",
      "# 29207 ...nagement llp, chewco investments llp and jedi capital ii, bought power plants and ...\n",
      "# 29236 ...n from one limited partnership, known as jedi, to another limited partnership, kno...\n",
      "# 29247 ... enterprises iii inc.2/20/1998yes\\t\\t\\t\\njedi capital ii llc\\t9/4/1998\\tyes\\t\\ne.c...\n",
      "# 29371 ...oint venture. the partnership was called jedi, or the joint energy development inv...\n",
      "# 29834 ....\\n\\nstar wars: episode vi-return of the jedi\\ndirected by richard marquand\\n(usa,...\n",
      "# 29915 ....\\n\\nstar wars: episode vi-return of the jedi\\ndirected by richard marquand\\n(usa,...\n",
      "# 30481 ...of joint energy development investments (jedi) and chewco beginning in november 19...\n",
      "# 31681 ....\\n\\nstar wars: episode vi-return of the jedi\\ndirected by richard marquand\\n(usa,...\n",
      "# 32572 ...of joint energy development investments (jedi) and chewco beginning in november 19...\n",
      "# 33910 ...\\n2. all ljm entities\\r\\n3. chewco\\r\\n4. jedi i and ii\\r\\n5. the raptor structures...\n",
      "# 34519 ...of joint energy development investments (jedi) and chewco beginning in november 19...\n",
      "# 35331 ...of joint energy development investments (jedi) and chewco beginning in november 19...\n",
      "# 36946 ...for $30mm. $11.25mm for enron's share of jedi and $7.5mm to whitewing.\\n\\n\", \"cont...\n",
      "# 38025 ...of joint energy development investments (jedi) and chewco beginning in november 19...\n",
      "# 38744 ...of joint energy development investments (jedi) and chewco beginning in november 19...\n",
      "# 39321 ...is approximately 88% owned by trutta and jedi ii, may be put into bankruptcy.  in ...\n",
      "# 40103 ...een added!\\n\\nwe are way in the money on jedi2.  should we terminate on them for n...\n",
      "# 40327 ... follows :\\n\\ncresendo energy llc - 50 % jedi ll , 50 % trutta\\njuniper - 75 % jed...\n",
      "# 40328 ... follows :\\n\\ncresendo energy llc - 50 % jedi ll , 50 % trutta\\njuniper - 75 % jed...\n",
      "# 40337 ... follows :\\n\\ncresendo energy llc - 50 % jedi ll , 50 % trutta\\njuniper - 75 % jed...\n",
      "# 40341 ... follows :\\n\\ncresendo energy llc - 50 % jedi ll , 50 % trutta\\njuniper - 75 % jed...\n",
      "# 40356 ...2\\t            26,401.31 \\t\\t\\n\\t\\t\\t\\t\\njedi ii\\t12/21/01 (requested fx conversio...\n",
      "# 40364 ...2\\t            26,401.31 \\t\\t\\n\\t\\t\\t\\t\\njedi ii\\t12/21/01 (requested fx conversio...\n",
      "# 40375 ...2\\t            26,401.31 \\t\\t\\n\\t\\t\\t\\t\\njedi ii\\t12/21/01 (requested fx conversio...\n",
      "# 40377 ...\": \"\", \"parts\": [{\"content\": \"sara,\\nthe jedi ii account at bear stearns had share...\n",
      "# 40963 ...of joint energy development investments (jedi) and chewco beginning in november 19...\n"
     ]
    }
   ],
   "source": [
    "ind=0\n",
    "teststr='jedi'\n",
    "for mail in dbh.mbox.find():\n",
    "    str=json.dumps(mail, default=json_util.default).lower() # for some reason $text method of find() didn't work\n",
    "    # so I had to use a workaround to make a text search in each doucument\n",
    "    if teststr in str:\n",
    "        match= re.search(r'('+teststr+')',str).start()\n",
    "        print \"#\",ind, \"...\"+str[max(match-41,0):min(match+41,len(str)-1)]+\"...\"\n",
    "    ind=ind+1"
   ]
  },
  {
   "cell_type": "code",
   "execution_count": 23,
   "metadata": {
    "collapsed": false
   },
   "outputs": [
    {
     "name": "stdout",
     "output_type": "stream",
     "text": [
      "------------------------------\n",
      "Date:  2001-09-13 15:31:41\n",
      "From:  brent.hendry@enron.com\n",
      "To:  [u'legal<.taylor@enron.com>']\n",
      "Subject:  New Project Direction\n",
      "Body:  Mark,\r\n",
      "I can use your advise on a few new projects that I am working on.\r\n",
      "\r\n",
      "1.  The weather desk is trying to roll out a HDD Swap for Calgary by Monday.  Most of the anticipated buyers of the product will be Canadian counterparties ECC has masters with.  The desk originally thought that we need to create a GTC for Enron Canada using the ENA weather GTC.  Because if the time issues involved in creating a new GTC (fixing all the things that are wrong with the ENA form) I looked for a new way to deal with this issue.  I think I found it in section 3(d) of the ETA which provides that the Enron counterparty to a particular transaction will be the Enron Entity they have a master with that covers that type of transaction.  I believe this provision was a stroke of genius designed for just this type of scenario.  I can prepare the long description to specify the Enron entity as \"the applicable Enron entity\" and if there is a master then the Enron Entity is the one with the master pursuant to Section 3(d) of the ETA and if there is no master the ETA says the GTC applies and the GTC specifies that ENA is the counterparty.  Do you think this works?\r\n",
      "\r\n",
      "2.  I was contacted by someone at McKinsey & Company yesterday who is working with the weather desk to develop a Bermuda Transformer Commercial Structure to partner up with the Insurance market to provide some capital to our weather trading desk.  I have been told that conceptually it will be a Jedi type arrangement.  I have been asked to help them think through the issues and coordinate with the other attorneys who work on these types of issues.  I do not want to get too deep into the structuring of this investment vehicle myself without the appropriate legal group involved.  Would this be something Jordan Mintz's group would handle or would this be something that Lance Schuler's group would develop?  I thought I might want to talk to Julia Murrey (or Cristina Mordant or Carol St. Clair) to see what issues cropped up in the development of Jedi I and Jedi II (or maybe I should just talk to whatever lawyer is currently handling these structures).  What are your thoughts on how to move forward?\r\n",
      "\r\n",
      "3.  The other rush deal is a financing deal out of Jordan's group.  The deal I helped look at that was a physical forward using ISDA type language is now a financial deal (a series of Total Return Swaps) that needs to close next Friday.  I will go to a meeting in the morning to try and get more information on the structure.  Angela Davis who has worked on the Total Return swap deals has offered to help me pilot this through.  Sara thought I should check with you to make sure you don't have a problem with me taking on one of these deals.  I am going to try and make sure they have Danny Sullivan from A&K; working on the deal since he is the most knowledgeable lawyer on this type of structure.  \r\n",
      "\r\n",
      "I hope all goes well with your return flight plans.\r\n",
      "\r\n",
      "Brent\r\n",
      "\r\n",
      "Brent Hendry\r\n",
      "Senior Counsel\r\n",
      "Enron North America\r\n",
      "1400 Smith Street\r\n",
      "Houston TX 77002\r\n",
      "Phone  713 853 7124\r\n",
      "Fax  713 646 3490\n",
      "\n",
      "\n",
      "------------------------------\n"
     ]
    }
   ],
   "source": [
    "printmail(dbh.mbox.find()[3475]) # print e-mails that look interesting\n",
    "#printmail(dbh.mbox.find()[5871])"
   ]
  },
  {
   "cell_type": "code",
   "execution_count": null,
   "metadata": {
    "collapsed": false
   },
   "outputs": [],
   "source": []
  }
 ],
 "metadata": {
  "kernelspec": {
   "display_name": "Python 2",
   "language": "python",
   "name": "python2"
  },
  "language_info": {
   "codemirror_mode": {
    "name": "ipython",
    "version": 2
   },
   "file_extension": ".py",
   "mimetype": "text/x-python",
   "name": "python",
   "nbconvert_exporter": "python",
   "pygments_lexer": "ipython2",
   "version": "2.7.10"
  }
 },
 "nbformat": 4,
 "nbformat_minor": 0
}
